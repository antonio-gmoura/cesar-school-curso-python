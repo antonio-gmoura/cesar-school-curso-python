{
  "nbformat": 4,
  "nbformat_minor": 0,
  "metadata": {
    "colab": {
      "name": "FAST - Aula 02.1 - Operadores Lógicos e Estrutura Condicional.ipynb",
      "provenance": [],
      "collapsed_sections": [],
      "include_colab_link": true
    },
    "kernelspec": {
      "name": "python3",
      "display_name": "Python 3"
    }
  },
  "cells": [
    {
      "cell_type": "markdown",
      "metadata": {
        "id": "view-in-github",
        "colab_type": "text"
      },
      "source": [
        "<a href=\"https://colab.research.google.com/github/antonio-gmoura/cesar-school-curso-python/blob/main/FAST_Aula_02_1_Operadores_L%C3%B3gicos_e_Estrutura_Condicional.ipynb\" target=\"_parent\"><img src=\"https://colab.research.google.com/assets/colab-badge.svg\" alt=\"Open In Colab\"/></a>"
      ]
    },
    {
      "cell_type": "markdown",
      "metadata": {
        "id": "9ujEVvoCTM6p"
      },
      "source": [
        "<img src=\"https://www.cesar.school/wp-content/uploads/2019/09/marca_cesar_school.png\" alt=\"drawing\" width=\"200\"/>\n",
        "\n",
        "# Python - **Aula 02.1**\n",
        "\n",
        "---\n",
        "\n",
        "- Entender conceitos básicos sobre programação;\n",
        "- Operadores lógicos;\n",
        "- Estruturas Condicionais;\n"
      ]
    },
    {
      "cell_type": "markdown",
      "metadata": {
        "id": "zAWgCzEXyWGU"
      },
      "source": [
        "# Operadores Lógicos"
      ]
    },
    {
      "cell_type": "markdown",
      "metadata": {
        "id": "rzDS1hUgwxsN"
      },
      "source": [
        "## Operadores Relacionais\n",
        "\n",
        "Uma condição é o estabelecimento de uma relação lógica entre dois elementos. Para definir uma relação lógica é necessário usar operadores relacionais. Uma relação lógica (comparação) retorna somente os valores verdadeiro (`True`) ou falso (`False`).\n",
        "\n",
        "* Igual a: `x == y`\n",
        "* Maior que: `x > y`\n",
        "* Menor que: `x < y`\n",
        "* Maior ou igual a: `x >= y`\n",
        "* Menor ou igual a: `x <= y`\n",
        "* Diferente de: `x != y`\n",
        "\n",
        "> Sobre uso de operadores relacionais com strings [aqui](https://careerkarma.com/blog/python-compare-strings/#:~:text=Python%20comparison%20operators%20can%20be,equal%20to%20(%20>%3D%20).)."
      ]
    },
    {
      "cell_type": "code",
      "metadata": {
        "id": "LrgPw5AZWYBY",
        "colab": {
          "base_uri": "https://localhost:8080/"
        },
        "outputId": "8743e181-02da-4346-adf7-da7afda016bc"
      },
      "source": [
        "x = 10\n",
        "y = 5\n",
        "z = x <= y\n",
        "print( f'o {x} é maior que o {y}: {z}' )"
      ],
      "execution_count": null,
      "outputs": [
        {
          "output_type": "stream",
          "name": "stdout",
          "text": [
            "o 10 é maior que o 5: True\n"
          ]
        }
      ]
    },
    {
      "cell_type": "markdown",
      "metadata": {
        "id": "oXrQs1SBS4Nh"
      },
      "source": [
        "## Operadores de Identidade\n",
        "\n",
        "Semelhante aos operadores relacionais, são semânticamente mais legiveis e podem ser usados para comparar ou diferenciar, dois objetos:\n",
        "\n",
        "- `is`\n",
        "- `is not`\n",
        "\n",
        "A diferencia primordial do uso dos operadores de identidade para os operadores relacionais é que os primeiros avaliam também o tipo dos dados (e a referência):\n",
        "\n",
        "```python\n",
        "print(10.0 == 10) # True\n",
        "print(10.0 is 10) # False\n",
        "```\n",
        "\n",
        "Mais detalhes sobre a diferença entre o `==` e o `is` [aqui](https://towardsdatascience.com/whats-the-difference-between-is-and-in-python-dc26406c85ad).\n",
        "\n",
        "> Obs.: Na ordem de precedência, os operadores relacionais ficam a frente"
      ]
    },
    {
      "cell_type": "code",
      "metadata": {
        "id": "woTxT_G1ocZ3"
      },
      "source": [
        ""
      ],
      "execution_count": null,
      "outputs": []
    },
    {
      "cell_type": "markdown",
      "metadata": {
        "id": "AkKDg0Lxw3c4"
      },
      "source": [
        "## Operadores Lógicos\n",
        "\n",
        "São utilizados para uma mesma tomada de decisão que necessite de mais de uma condição. Também são conhecidos como operadores booleanos. Operadores lógicos retornam somente os valores verdadeiro ou falso.\n",
        "\n",
        "| Operador Lógico | Função    | Prioridade          |\n",
        "|-----------------|-----------|---------------------|\n",
        "| `not`           | Negação   | 1                   |\n",
        "| `and`           | Conjunção | 2                   |\n",
        "| `or`            | Disjunção | 3                   |"
      ]
    },
    {
      "cell_type": "code",
      "metadata": {
        "id": "DRUv3H5AsF8V",
        "colab": {
          "base_uri": "https://localhost:8080/"
        },
        "outputId": "c808b5cf-1a58-4133-f60b-7ce17bd270c3"
      },
      "source": [
        "# print((x > y and x < 1 and y > 2))\n",
        "# print(x > y or y > x or x < 100 or True or False)\n",
        "# print(not(x > y))\n",
        "\n",
        "print(True and True)\n",
        "print(True and False)\n",
        "print(False or 4 > 2)\n",
        "\n",
        "print(False or '')\n",
        "\n",
        "print(5 >= 5 and False and 3 > 6 or 2 > 1)"
      ],
      "execution_count": null,
      "outputs": [
        {
          "output_type": "stream",
          "name": "stdout",
          "text": [
            "True\n",
            "False\n",
            "True\n",
            "\n",
            "True\n"
          ]
        }
      ]
    },
    {
      "cell_type": "markdown",
      "metadata": {
        "id": "WsXf_ireWQZd"
      },
      "source": [
        "\n",
        "\n",
        "#Estruturas Condicionais\n",
        "\n",
        "Em Python, é possível controlar o fluxo de execução do código usando estruturas condicionais.\n",
        "\n"
      ]
    },
    {
      "cell_type": "markdown",
      "metadata": {
        "id": "zmalBcHrxAkw"
      },
      "source": [
        "## Estrutura Condicional Simples\n",
        "\n",
        "- `if`\n",
        "\n",
        "```python\n",
        "if condição:\n",
        "  # se for verdade\n",
        "```\n",
        "\n",
        "> Obs.: Python não possui marcadores de bloco explícitos (como as chaves `{}`). Desta forma, os blocos são definidos pela **identação**.\n"
      ]
    },
    {
      "cell_type": "code",
      "metadata": {
        "id": "12kCjeeyxEHI"
      },
      "source": [
        ""
      ],
      "execution_count": null,
      "outputs": []
    },
    {
      "cell_type": "markdown",
      "metadata": {
        "id": "4lZ3gYBwxIqw"
      },
      "source": [
        "## Estrutura Condicional Composta\n",
        "\n",
        "- `if`\n",
        "- `elif`\n",
        "- `else`\n",
        "\n",
        "```python\n",
        "if condição:\n",
        "  # se for verdade\n",
        "else:\n",
        "  # se não for verdade\n",
        "```\n",
        "\n",
        "```python\n",
        "if condição:\n",
        "  # se for verdade\n",
        "elif outra_condicao:\n",
        "  # se a outra condição for verdadeira\n",
        "else:\n",
        "  # se não for verdade\n",
        "```"
      ]
    },
    {
      "cell_type": "code",
      "metadata": {
        "id": "8CDRVqpCxL5N"
      },
      "source": [
        ""
      ],
      "execution_count": null,
      "outputs": []
    },
    {
      "cell_type": "code",
      "metadata": {
        "id": "vKb7Mu1SxN8-"
      },
      "source": [
        "\n"
      ],
      "execution_count": null,
      "outputs": []
    },
    {
      "cell_type": "markdown",
      "metadata": {
        "id": "ONQEKPoD5WRt"
      },
      "source": [
        "## Shorthand\n",
        "\n",
        "`if`:\n",
        "\n",
        "```python\n",
        "if (condição): (caso verdadeiro)\n",
        "```\n",
        "\n",
        "`if else`:\n",
        "\n",
        "```python\n",
        "(caso verdadeiro) if (condição) else (caso falso)\n",
        "```"
      ]
    },
    {
      "cell_type": "code",
      "metadata": {
        "id": "KRa8D_vB5l_B"
      },
      "source": [
        ""
      ],
      "execution_count": null,
      "outputs": []
    },
    {
      "cell_type": "code",
      "metadata": {
        "id": "EEy9azFV_ZxC"
      },
      "source": [
        ""
      ],
      "execution_count": null,
      "outputs": []
    },
    {
      "cell_type": "markdown",
      "metadata": {
        "id": "L1_5F0TnxazF"
      },
      "source": [
        "# Exercícios Fundamentais\n"
      ]
    },
    {
      "cell_type": "markdown",
      "metadata": {
        "id": "ALgn8jEOXI8m"
      },
      "source": [
        "1. Informe a saída das seguintes expressões:\n",
        "\n",
        "a)\n",
        "```python\n",
        "3 < 8 # True\n",
        "```\n",
        "\n",
        "b)\n",
        "```python\n",
        "a = 12\n",
        "b = a - 10\n",
        "a > b # true\n",
        "```\n",
        "\n",
        "c)\n",
        "```python\n",
        "16 != 16 # false\n",
        "```\n",
        "\n",
        "d)\n",
        "```python\n",
        "2 < 5 > 10 # false\n",
        "```\n",
        "\n",
        "e)\n",
        "```python\n",
        "3 <= 5 >= 2 # true\n",
        "```"
      ]
    },
    {
      "cell_type": "code",
      "metadata": {
        "id": "h4ye6OPQWmFP",
        "colab": {
          "base_uri": "https://localhost:8080/"
        },
        "outputId": "0227b93d-e869-4fe5-868a-9ad9550443c7"
      },
      "source": [
        "a = 12\n",
        "b = a - 10\n",
        "print(a > b)       # true\n",
        "print(16 != 16)    # false\n",
        "print(2 < 5 > 10)  # false\n",
        "print(3 <= 5 >= 2) # true"
      ],
      "execution_count": null,
      "outputs": [
        {
          "output_type": "stream",
          "name": "stdout",
          "text": [
            "True\n",
            "False\n",
            "False\n",
            "True\n"
          ]
        }
      ]
    },
    {
      "cell_type": "markdown",
      "metadata": {
        "id": "38fv7groq1TP"
      },
      "source": [
        "2. Verifique se as igualdades abaixo são verdadeiras:"
      ]
    },
    {
      "cell_type": "markdown",
      "metadata": {
        "id": "NVrRDMptq-XV"
      },
      "source": [
        "a) $2 \\times 2.0 = 4$"
      ]
    },
    {
      "cell_type": "code",
      "metadata": {
        "id": "WUKZ6b78rA7V",
        "colab": {
          "base_uri": "https://localhost:8080/"
        },
        "outputId": "43ab976d-36b6-4d7e-8c27-6fa4a77f2bb2"
      },
      "source": [
        "2 * 2.0 == 4"
      ],
      "execution_count": null,
      "outputs": [
        {
          "output_type": "execute_result",
          "data": {
            "text/plain": [
              "True"
            ]
          },
          "metadata": {},
          "execution_count": 7
        }
      ]
    },
    {
      "cell_type": "markdown",
      "metadata": {
        "id": "tOJCnahPrD-W"
      },
      "source": [
        "b) $2 \\times 3 = 5$"
      ]
    },
    {
      "cell_type": "code",
      "metadata": {
        "id": "GkMDHX0vrEqZ",
        "colab": {
          "base_uri": "https://localhost:8080/"
        },
        "outputId": "20866ae6-c911-420f-c975-4dcb71bc6f26"
      },
      "source": [
        "2 * 3 == 5"
      ],
      "execution_count": null,
      "outputs": [
        {
          "output_type": "execute_result",
          "data": {
            "text/plain": [
              "False"
            ]
          },
          "metadata": {},
          "execution_count": 8
        }
      ]
    },
    {
      "cell_type": "markdown",
      "metadata": {
        "id": "bmiounPQrE7N"
      },
      "source": [
        "c) $4a + 3 = b$, para $a=3$ e $b=15$\n",
        "\n",
        "P.S.: primeiro declare as variáveis `a` e `b`"
      ]
    },
    {
      "cell_type": "code",
      "metadata": {
        "id": "gYX4EINtrHR9",
        "colab": {
          "base_uri": "https://localhost:8080/"
        },
        "outputId": "99fc5a99-0624-4cf7-8173-604689aafba7"
      },
      "source": [
        "a = 3\n",
        "b = 15\n",
        "4 * a + 3 == b"
      ],
      "execution_count": null,
      "outputs": [
        {
          "output_type": "execute_result",
          "data": {
            "text/plain": [
              "True"
            ]
          },
          "metadata": {},
          "execution_count": 9
        }
      ]
    },
    {
      "cell_type": "markdown",
      "metadata": {
        "id": "8cxnTi98vCBA"
      },
      "source": [
        "3. Faça um programa que calcule as raízes de uma equação do segundo grau, na forma `ax² + bx + c`. O programa deverá pedir os valores de a, b e c e fazer as consistências, informando ao usuário nas seguintes situações:\n",
        "\n",
        "a) Se o usuário informar o valor de A igual a zero, a equação não é do segundo grau e o programa não deve pedir os demais valores, sendo encerrado;\n",
        "\n",
        "b) Se o delta calculado for negativo, a equação não possui raizes reais. Informe ao usuário e encerre o programa;\n",
        "\n",
        "c) Se o delta calculado for igual a zero a equação possui apenas uma raiz real; informe-a ao usuário;\n",
        "\n",
        "d) Se o delta for positivo, a equação possui duas raiz reais; informe-as ao usuário;"
      ]
    },
    {
      "cell_type": "code",
      "metadata": {
        "id": "OXnitl8yvPel",
        "colab": {
          "base_uri": "https://localhost:8080/"
        },
        "outputId": "9deff497-d28f-49d8-83ed-91da56d7c5ce"
      },
      "source": [
        "a = float(input(\"Informe a: \"))\n",
        "if a == 0:\n",
        "  print(\"a igual 0: Não é equação do segundo grau!\")\n",
        "else:\n",
        "  b = float(input(\"Informe b: \"))\n",
        "  c = float(input(\"Informe c: \"))\n",
        "  delta = b**2 - 4*a*c\n",
        "   \n",
        "  if delta < 0: \n",
        "    print(\"A equação não possui raizes Reais\") \n",
        "  elif delta == 0:       \n",
        "    x1 = (-b) / (2*a)\n",
        "    print(f\"x = {x1:.4f}\")     \n",
        "  else: \n",
        "    x1 = ((-b + (delta)**(1/2)) / (2*a))     \n",
        "    x2 = ((-b - (delta)**(1/2)) / (2*a))\n",
        "    print(f\"x1 = {x1:.4f}\")     \n",
        "    print(f\"x2 = {x2:.4f}\")"
      ],
      "execution_count": null,
      "outputs": [
        {
          "output_type": "stream",
          "name": "stdout",
          "text": [
            "Informe a: 1\n",
            "Informe b: -1\n",
            "Informe c: -12\n",
            "x1 = 4.0000\n",
            "x2 = -3.0000\n"
          ]
        }
      ]
    },
    {
      "cell_type": "markdown",
      "metadata": {
        "id": "Hjpnzu9HvQiU"
      },
      "source": [
        "4. Faça um Programa que peça um número correspondente a um determinado ano e em seguida informe se este ano é ou não bissexto."
      ]
    },
    {
      "cell_type": "code",
      "metadata": {
        "id": "Lh2LloRVvTvc",
        "colab": {
          "base_uri": "https://localhost:8080/"
        },
        "outputId": "3f984505-19e1-4a52-d136-275507fc0b1f"
      },
      "source": [
        "ano = int(input(\"Informe o ano: \"))\n",
        "if (ano%4 == 0 and ano%100 != 0) or (ano%400 == 0):\n",
        "  print(\"Bissexto\")\n",
        "else:\n",
        "  print(\"Não é Bissexto\")\n"
      ],
      "execution_count": null,
      "outputs": [
        {
          "output_type": "stream",
          "name": "stdout",
          "text": [
            "Informe o ano: 1000\n",
            "Não é Bissexto\n"
          ]
        }
      ]
    },
    {
      "cell_type": "markdown",
      "metadata": {
        "id": "XunttGjtvUH0"
      },
      "source": [
        "5. Faça um Programa que peça uma data no formato dd/mm/aaaa e determine se a mesma é uma data válida."
      ]
    },
    {
      "cell_type": "code",
      "metadata": {
        "id": "2UzoTDudvUfr"
      },
      "source": [
        ""
      ],
      "execution_count": null,
      "outputs": []
    },
    {
      "cell_type": "markdown",
      "metadata": {
        "id": "TgyLzECrvUnP"
      },
      "source": [
        "6. Faça um Programa que leia um número e exiba o dia correspondente da semana. (1-Domingo, 2- Segunda, etc.), se digitar outro valor deve aparecer valor inválido."
      ]
    },
    {
      "cell_type": "code",
      "metadata": {
        "id": "aDvuInTgvifq",
        "colab": {
          "base_uri": "https://localhost:8080/"
        },
        "outputId": "e1a7a650-dfed-4b2b-ff7f-f8a631e9ce36"
      },
      "source": [
        "d = int(input(\"Informe o dia: \"))\n",
        "if d == 1: print(\"Domingo\")\n",
        "elif d == 2: print(\"Segunda\")\n",
        "elif d == 3: print(\"Terça\")\n",
        "elif d == 4: print(\"Quarta\")\n",
        "elif d == 5: print(\"Quinta\")\n",
        "elif d == 6: print(\"Sexta\")\n",
        "elif d == 7: print(\"Sábado\")\n",
        "else: print ('Valor inválido!')"
      ],
      "execution_count": null,
      "outputs": [
        {
          "output_type": "stream",
          "name": "stdout",
          "text": [
            "Informe o dia: 4\n",
            "Quarta\n"
          ]
        }
      ]
    },
    {
      "cell_type": "markdown",
      "metadata": {
        "id": "Si_23BWYxrO5"
      },
      "source": [
        "7. Crie um programa para um circo, no qual dada a idade de uma pessoa, seja indicado o valor do ingresso segundo as regras:\n",
        "\n",
        "a) A entrada para qualquer pessoa com menos de 4 anos ou maior que 60 é gratuita;\n",
        "\n",
        "b) a entrada para qualquer pessoa com idade entre 4 e 18 custa 20 reais;\n",
        "\n",
        "c) a entrada para qualquer pessoa com 18 ou mais custa 30 reais;\n",
        "\n",
        "d) estudantes e professores pagam meia-entrada."
      ]
    },
    {
      "cell_type": "code",
      "metadata": {
        "id": "pNZbzASKxtzV",
        "colab": {
          "base_uri": "https://localhost:8080/"
        },
        "outputId": "476149df-a573-44c1-bca1-439e996445db"
      },
      "source": [
        "idade = int(input('Informe a idade: '))\n",
        "if idade < 4 or idade > 60:\n",
        "  valor = 0\n",
        "elif (idade >= 18):\n",
        "  valor = 30\n",
        "else:\n",
        "  valor = 20\n",
        "if valor > 0:\n",
        "  meia_entrada = input(\"Você é professor ou estudante? (S/N): \")\n",
        "  if meia_entrada.upper() == 'S':\n",
        "    valor /= 2\n",
        "print(f'O valor do ingresso é R$ {valor:.2f}')\n"
      ],
      "execution_count": null,
      "outputs": [
        {
          "output_type": "stream",
          "name": "stdout",
          "text": [
            "Informe a idade: 4\n",
            "Você é professor ou estudante? (S/N): n\n",
            "O valor do ingresso é R$ 20.00\n"
          ]
        }
      ]
    },
    {
      "cell_type": "markdown",
      "metadata": {
        "id": "FR7yDSeiqG3C"
      },
      "source": [
        "8. Complete o código na célula abaixo para imprimir uma mensagem informando se um aluno foi aprovado ou reprovado em uma disciplina com base em sua nota final. A nota mínima necessária para aprovação é  5 ."
      ]
    },
    {
      "cell_type": "code",
      "metadata": {
        "id": "SOYR5rb_qJeM"
      },
      "source": [
        ""
      ],
      "execution_count": null,
      "outputs": []
    },
    {
      "cell_type": "markdown",
      "metadata": {
        "id": "Hm-cqUzIqdiM"
      },
      "source": [
        "9. Construa uma pequena **chave dicotômica** para identificar uma determinada planta como membro de um dos principais grupos: *Bryophyta*, *Pteridophyta*, *Gymnospermae* ou *Angiospermae*.\n",
        "A identificação se dá com base na presença (1) ou ausência (0) de três caracteres: **vascularização**, **sementes** e **flores**. \n",
        "Utilize a tabela abaixo como referência."
      ]
    },
    {
      "cell_type": "markdown",
      "metadata": {
        "id": "rb-IaXMLqmwB"
      },
      "source": [
        "| Grupo | Vascularização| Sementes| Flores |\n",
        "|--|--|--|--|\n",
        "| Bryophyta | 0 | 0 | 0 |\n",
        "| Pteridophyta | 1| 0 | 0 |\n",
        "| Gymnospermae | 1 | 1 | 0 |\n",
        "| Angiospermae | 1 | 1 | 1 |\n"
      ]
    },
    {
      "cell_type": "code",
      "metadata": {
        "id": "zoQsaFZjqcxA"
      },
      "source": [
        ""
      ],
      "execution_count": null,
      "outputs": []
    },
    {
      "cell_type": "markdown",
      "metadata": {
        "id": "aNI2VzpEsuSo"
      },
      "source": [
        "10. Um posto está vendendo combustíveis com a seguinte tabela de descontos:\n",
        "\n",
        "a. Álcool:\n",
        "\n",
        "    até 20 litros, desconto de 3% por litro\n",
        "    acima de 20 litros, desconto de 5% por litro\n",
        "\n",
        "b. Gasolina:\n",
        "\n",
        "    até 20 litros, desconto de 4% por litro\n",
        "    acima de 20 litros, desconto de 6% por litro\n",
        "\n",
        "Escreva um algoritmo que leia o número de litros vendidos, o tipo de combustível (codificado da seguinte forma: A-álcool, G-gasolina), calcule e imprima o valor a ser pago pelo cliente sabendo-se que o preço do litro da gasolina é 2.50 o preço do litro do álcool é 1,90."
      ]
    },
    {
      "cell_type": "code",
      "metadata": {
        "id": "D3MJKrgxtlzb"
      },
      "source": [
        ""
      ],
      "execution_count": null,
      "outputs": []
    },
    {
      "cell_type": "markdown",
      "metadata": {
        "id": "wpMhfBBetmCa"
      },
      "source": [
        "11. Faça um Programa que leia 2 números e em seguida pergunte ao usuário qual operação ele deseja realizar. O resultado da operação deve ser acompanhado de uma frase que diga se o número é:\n",
        "\n",
        "a. par ou ímpar;\n",
        "\n",
        "b. positivo ou negativo;\n",
        "\n",
        "c. inteiro ou decimal."
      ]
    },
    {
      "cell_type": "code",
      "metadata": {
        "id": "ypcUM1gvtuVY"
      },
      "source": [
        ""
      ],
      "execution_count": null,
      "outputs": []
    }
  ]
}