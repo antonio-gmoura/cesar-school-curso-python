{
  "nbformat": 4,
  "nbformat_minor": 0,
  "metadata": {
    "colab": {
      "name": "FAST - Aula 04 - Maratona - Lista de questões.ipynb",
      "provenance": [],
      "collapsed_sections": [],
      "include_colab_link": true
    },
    "kernelspec": {
      "name": "python3",
      "display_name": "Python 3"
    },
    "language_info": {
      "name": "python"
    }
  },
  "cells": [
    {
      "cell_type": "markdown",
      "metadata": {
        "id": "view-in-github",
        "colab_type": "text"
      },
      "source": [
        "<a href=\"https://colab.research.google.com/github/antonio-gmoura/cesar-school-curso-python/blob/main/FAST_Aula_04_Maratona_Lista_de_quest%C3%B5es.ipynb\" target=\"_parent\"><img src=\"https://colab.research.google.com/assets/colab-badge.svg\" alt=\"Open In Colab\"/></a>"
      ]
    },
    {
      "cell_type": "markdown",
      "source": [
        "# Exercícios do beecrowd"
      ],
      "metadata": {
        "id": "gUGYQthE6GVv"
      }
    },
    {
      "cell_type": "markdown",
      "metadata": {
        "id": "82QqHenSaniO"
      },
      "source": [
        "a) [1858 - A Resposta de Theon](https://www.beecrowd.com.br/judge/pt/problems/view/1858)"
      ]
    },
    {
      "cell_type": "code",
      "metadata": {
        "id": "_QKOFGIbarNW",
        "colab": {
          "base_uri": "https://localhost:8080/"
        },
        "outputId": "bc17f504-5a47-4218-d694-98c58ffcb825"
      },
      "source": [
        "# -*- coding: utf-8 -*-\n",
        "\n",
        "#n = int(input())\n",
        "_ = input()\n",
        "\n",
        "t = list(map(int, input().split()))\n",
        "\n",
        "print(t.index(min(t)) + 1)"
      ],
      "execution_count": 4,
      "outputs": [
        {
          "output_type": "stream",
          "name": "stdout",
          "text": [
            "3\n",
            "8 0 7\n",
            "2\n"
          ]
        }
      ]
    },
    {
      "cell_type": "markdown",
      "metadata": {
        "id": "cidVW8QlawBs"
      },
      "source": [
        "b) [2547 - Montanha-Russa](https://www.beecrowd.com.br/judge/pt/problems/view/2547)"
      ]
    },
    {
      "cell_type": "code",
      "metadata": {
        "id": "iVy3Oga4ayOM",
        "colab": {
          "base_uri": "https://localhost:8080/"
        },
        "outputId": "7ade2ae5-e35b-4f0c-fe1c-e418b07470d0"
      },
      "source": [
        "# -*- coding: utf-8 -*-\n",
        "\n",
        "while True:\n",
        "  try:\n",
        "    n, amin, amax = map(int, input().split())\n",
        "\n",
        "    contador = 0\n",
        "    for _ in range(n):\n",
        "      altura = int(input())\n",
        "      if amin <= altura <= amax:\n",
        "        contador += 1\n",
        "\n",
        "    print(contador)\n",
        "  except EOFError:\n",
        "    break"
      ],
      "execution_count": 5,
      "outputs": [
        {
          "output_type": "stream",
          "name": "stdout",
          "text": [
            "10 20 30\n",
            "10 20 30\n"
          ]
        }
      ]
    },
    {
      "cell_type": "markdown",
      "metadata": {
        "id": "obQJps9tbRxG"
      },
      "source": [
        "c) [2551 - Novo Recorde](https://www.beecrowd.com.br/judge/pt/problems/view/2551)"
      ]
    },
    {
      "cell_type": "code",
      "metadata": {
        "id": "j_eTtb7KbTGX",
        "colab": {
          "base_uri": "https://localhost:8080/"
        },
        "outputId": "9c2a992d-84e4-4bf1-9d89-c0fbb4848ae9"
      },
      "source": [
        "# -*- coding: utf-8 -*-\n",
        "\n",
        "while True:\n",
        "  try:\n",
        "    q = int(input())\n",
        "    maior_media = 0.0 # recorde\n",
        "    for d in range(q):\n",
        "      tempo, espaco = map(int, input().split())\n",
        "      media_dia = espaco / tempo\n",
        "      if media_dia > maior_media:\n",
        "        maior_media = media_dia\n",
        "        print(d + 1)\n",
        "  except EOFError:\n",
        "    break"
      ],
      "execution_count": 17,
      "outputs": [
        {
          "name": "stdout",
          "output_type": "stream",
          "text": [
            "3\n",
            "1 1\n",
            "1\n",
            "2 1\n",
            "2 3\n",
            "3\n",
            "\u0004\n"
          ]
        }
      ]
    },
    {
      "cell_type": "markdown",
      "metadata": {
        "id": "J08S1JS0bYh9"
      },
      "source": [
        "d) [2523 - A Mensagem de Will](https://www.beecrowd.com.br/judge/pt/problems/view/2523)"
      ]
    },
    {
      "cell_type": "code",
      "metadata": {
        "id": "9ePuVYZfbawY",
        "colab": {
          "base_uri": "https://localhost:8080/"
        },
        "outputId": "6cb35bbf-e3d3-4ac5-c814-30c9a1bc2407"
      },
      "source": [
        "# -*- coding: utf-8 -*-\n",
        "\n",
        "while True:\n",
        "  try:\n",
        "    alfabeto = input()\n",
        "    q = int(input())\n",
        "    posicoes = list(map(int, input().split()))\n",
        "    mensagem = \"\"\n",
        "    for p in posicoes:\n",
        "      mensagem += alfabeto[p - 1]\n",
        "    print(mensagem)\n",
        "    print(\"\".join(map(lambda p: alfabeto[p-1], posicoes)))\n",
        "  except EOFError:\n",
        "    break\n"
      ],
      "execution_count": 30,
      "outputs": [
        {
          "name": "stdout",
          "output_type": "stream",
          "text": [
            "ABCDEFGHIJKLMNOPQRSTUVWXYZ\n",
            "4\n",
            "8 5 12 16\n",
            "HELP\n",
            "HELP\n",
            "\u0004\n"
          ]
        }
      ]
    },
    {
      "cell_type": "markdown",
      "metadata": {
        "id": "_eoabj3LbeSt"
      },
      "source": [
        "e) [2533 - Estágio](https://www.beecrowd.com.br/judge/pt/problems/view/2533)"
      ]
    },
    {
      "cell_type": "code",
      "source": [
        "n = round(0.8, 4)\n",
        "print(f'{n}')\n",
        "print(\"%.4f\" % n)"
      ],
      "metadata": {
        "colab": {
          "base_uri": "https://localhost:8080/"
        },
        "id": "55bLhAMTdKOB",
        "outputId": "bc3ff4aa-d1d2-4778-e040-a5080742982a"
      },
      "execution_count": 55,
      "outputs": [
        {
          "output_type": "stream",
          "name": "stdout",
          "text": [
            "0.8\n",
            "0.8000\n"
          ]
        }
      ]
    },
    {
      "cell_type": "code",
      "metadata": {
        "id": "WLe76Zpabe3-",
        "colab": {
          "base_uri": "https://localhost:8080/"
        },
        "outputId": "b5972b5f-3124-4fe6-a0dc-a617890c7b6a"
      },
      "source": [
        "# -*- coding: utf-8 -*-\n",
        "\n",
        "while True:\n",
        "  try:\n",
        "    d = int(input())\n",
        "    soma_nc = 0\n",
        "    soma_c = 0\n",
        "    for d in range(d):\n",
        "      n, c = map(int, input().split())\n",
        "      soma_nc += (n * c)\n",
        "      soma_c  += c\n",
        "    print(\"%.4f\" % round(soma_nc / soma_c / 100, 4))\n",
        "  except EOFError:\n",
        "    break\n"
      ],
      "execution_count": 56,
      "outputs": [
        {
          "name": "stdout",
          "output_type": "stream",
          "text": [
            "3\n",
            "70 60\n",
            "90 60\n",
            "80 120\n",
            "0.8000\n",
            "\u0004\n"
          ]
        }
      ]
    },
    {
      "cell_type": "code",
      "source": [
        "entrada = '1/6/2016 0 0 1 0'\n",
        "data, votos = entrada.split(' ', 1)\n",
        "votos = list(map(int, votos.split()));\n",
        "print(data, min(votos))"
      ],
      "metadata": {
        "colab": {
          "base_uri": "https://localhost:8080/"
        },
        "id": "1oMjHmgb3yvK",
        "outputId": "1a49ba26-0cd1-42d6-b05c-935cee66c8c5"
      },
      "execution_count": 90,
      "outputs": [
        {
          "output_type": "stream",
          "name": "stdout",
          "text": [
            "1/6/2016 0\n"
          ]
        }
      ]
    },
    {
      "cell_type": "markdown",
      "metadata": {
        "id": "ZhBOGWaObg60"
      },
      "source": [
        "f) [2554 - Pizza Antes de BH](https://www.beecrowd.com.br/judge/pt/problems/view/2554)"
      ]
    },
    {
      "cell_type": "code",
      "metadata": {
        "id": "JTZPdauobhaT",
        "colab": {
          "base_uri": "https://localhost:8080/"
        },
        "outputId": "80c6c8b6-6ff2-4361-e6e0-dcb922718e85"
      },
      "source": [
        "# -*- coding: utf-8 -*-\n",
        "\n",
        "while True:\n",
        "  try:\n",
        "    np, nd = map(int, input().split())\n",
        "    data = ''\n",
        "    for _ in range(nd):\n",
        "      entrada = input().split();\n",
        "      if data != '':\n",
        "        continue\n",
        "      if min(list(map(int, entrada[1:]))) == 1:\n",
        "        data = entrada[0]\n",
        "    if data != '':\n",
        "      print(data)\n",
        "    else:\n",
        "      print('Pizza antes de FdI')\n",
        "  except EOFError:\n",
        "    break\n"
      ],
      "execution_count": 85,
      "outputs": [
        {
          "name": "stdout",
          "output_type": "stream",
          "text": [
            "4 2\n",
            "1/6/2016 0 0 1 0\n",
            "6/10/2016 1 1 1 1\n",
            "6/10/2016\n",
            "4 2\n",
            "1/6/2016 0 0 1 0\n",
            "6/10/2016 0 1 0 0\n",
            "Pizza antes de FdI\n",
            "\u0004\n"
          ]
        }
      ]
    },
    {
      "cell_type": "code",
      "source": [
        "# -*- coding: utf-8 -*-\n",
        "\n",
        "while True:\n",
        "  try:\n",
        "    np, nd = map(int, input().split())\n",
        "    menor_data = ''\n",
        "    for _ in range(nd):\n",
        "      data, votos = input().split(' ', 1);\n",
        "      if menor_data != '':\n",
        "        continue\n",
        "      votos = list(map(int, votos.split()));\n",
        "      if min(votos) == 1:\n",
        "        menor_data = data\n",
        "    if menor_data != '':\n",
        "      print(menor_data)\n",
        "    else:\n",
        "      print('Pizza antes de FdI')\n",
        "  except EOFError:\n",
        "    break"
      ],
      "metadata": {
        "colab": {
          "base_uri": "https://localhost:8080/"
        },
        "id": "wnBn7QhIJFs9",
        "outputId": "13623a75-84c5-4a47-e0ab-7a052eb19ead"
      },
      "execution_count": 93,
      "outputs": [
        {
          "name": "stdout",
          "output_type": "stream",
          "text": [
            "\u0004\n"
          ]
        }
      ]
    },
    {
      "cell_type": "markdown",
      "metadata": {
        "id": "DZT6x-4cbj9T"
      },
      "source": [
        "g) [2540 - Impeachment do Líder](https://www.beecrowd.com.br/judge/pt/problems/view/2540)"
      ]
    },
    {
      "cell_type": "code",
      "metadata": {
        "id": "OYR_6Dk7bklb"
      },
      "source": [
        "# -*- coding: utf-8 -*-\n",
        "\n"
      ],
      "execution_count": null,
      "outputs": []
    },
    {
      "cell_type": "markdown",
      "metadata": {
        "id": "cUfxqqUYbmdU"
      },
      "source": [
        "h) [1789 - A Corrida de Lesmas](https://www.beecrowd.com.br/judge/pt/problems/view/1789)"
      ]
    },
    {
      "cell_type": "code",
      "metadata": {
        "id": "VAsMf6iu3SJM"
      },
      "source": [
        "# -*- coding: utf-8 -*-\n",
        "\n"
      ],
      "execution_count": null,
      "outputs": []
    },
    {
      "cell_type": "markdown",
      "metadata": {
        "id": "NAeVEOcwbnqE"
      },
      "source": [
        "i) [1914 - De Quem é a Vez?](https://www.beecrowd.com.br/judge/pt/problems/view/1914)"
      ]
    },
    {
      "cell_type": "code",
      "metadata": {
        "id": "6YtRI5m1bstT"
      },
      "source": [
        "# -*- coding: utf-8 -*-\n",
        "\n"
      ],
      "execution_count": null,
      "outputs": []
    },
    {
      "cell_type": "markdown",
      "metadata": {
        "id": "Pzzd-m0VbpGL"
      },
      "source": [
        "j) [2003 - Domingo de Manhã](https://www.beecrowd.com.br/judge/pt/problems/view/2003)"
      ]
    },
    {
      "cell_type": "code",
      "metadata": {
        "id": "dzxGrjI9btbt"
      },
      "source": [
        "# -*- coding: utf-8 -*-\n",
        "\n"
      ],
      "execution_count": null,
      "outputs": []
    },
    {
      "cell_type": "markdown",
      "metadata": {
        "id": "PhtOiDj9bqHs"
      },
      "source": [
        "k) [2543 - Jogatina UFPR](https://www.beecrowd.com.br/judge/pt/problems/view/2543)"
      ]
    },
    {
      "cell_type": "code",
      "metadata": {
        "id": "w3qEUja_buHT"
      },
      "source": [
        "# -*- coding: utf-8 -*-\n",
        "\n"
      ],
      "execution_count": null,
      "outputs": []
    },
    {
      "cell_type": "markdown",
      "metadata": {
        "id": "LXuPEDCoYG6M"
      },
      "source": [
        "l) [2544 - Kage Bunshin no Jutsu](https://www.beecrowd.com.br/judge/pt/problems/view/2544)"
      ]
    },
    {
      "cell_type": "code",
      "metadata": {
        "id": "AwPyyViPYKcr"
      },
      "source": [
        "# -*- coding: utf-8 -*-\n",
        "\n"
      ],
      "execution_count": null,
      "outputs": []
    },
    {
      "cell_type": "markdown",
      "metadata": {
        "id": "nphhFbHBX219"
      },
      "source": [
        "m) [2717 - Tempo do Duende](https://www.beecrowd.com.br/judge/pt/problems/view/2717)"
      ]
    },
    {
      "cell_type": "code",
      "metadata": {
        "id": "q46qlJ5jX5w0"
      },
      "source": [
        "# -*- coding: utf-8 -*-\n",
        "\n"
      ],
      "execution_count": null,
      "outputs": []
    },
    {
      "cell_type": "markdown",
      "metadata": {
        "id": "o6nbCE6_XX8V"
      },
      "source": [
        "n) [2203 - Tempestade de Corvos](https://www.beecrowd.com.br/judge/pt/problems/view/2203)"
      ]
    },
    {
      "cell_type": "code",
      "metadata": {
        "id": "De77TYhrXevN"
      },
      "source": [
        "# -*- coding: utf-8 -*-\n",
        "\n"
      ],
      "execution_count": null,
      "outputs": []
    },
    {
      "cell_type": "markdown",
      "source": [
        "# Exercícios de Arquivos"
      ],
      "metadata": {
        "id": "wIthyb-w6NVu"
      }
    },
    {
      "cell_type": "markdown",
      "source": [
        "## PyFinanceiro\n",
        "\n",
        "* Neste desafio, você tem a tarefa de criar um script Python para analisar os registros financeiros de sua empresa. Você fornecerá um conjunto de dados financeiros chamado [dados_financeiros.txt](https://drive.google.com/file/d/1g4A0DkMdGxwv9JSGO32DYqvPby45pIHG/view?usp=sharing). O conjunto de dados é composto por duas colunas: `Data` e `Lucros/Perdas`, separados por virgula. (Felizmente, sua empresa tem padrões bastante flexíveis para a contabilidade, então os registros são simples.)\n",
        "\n",
        "* Sua tarefa é criar um script Python que analise os registros para calcular cada um das seguintes informações:\n",
        "\n",
        "  * O número total de meses incluídos no conjunto de dados\n",
        "\n",
        "  * O valor total líquido de \"Lucros / Perdas\" durante todo o período\n",
        "\n",
        "  * A média dos \"Lucros / Perdas\" durante todo o período\n",
        "\n",
        "  * A média das mudanças em \"Lucros / Perdas\" durante todo o período\n",
        "\n",
        "  * O maior aumento nos lucros (data e valor) durante todo o período\n",
        "\n",
        "  * A maior redução nas perdas (data e valor) ao longo de todo o período\n",
        "\n",
        "* Por exemplo, sua análise deve ser semelhante a esta abaixo:\n",
        "\n",
        "``` text\n",
        "Analise financeira\n",
        "----------------------------\n",
        "Total de meses: 86\n",
        "Total: $ 38382578\n",
        "Média: $ 446309,04\n",
        "Variação da média: $ -2315,12\n",
        "Maior aumento nos lucros: fevereiro de 2012 ($ 1926159)\n",
        "Maior redução nos lucros: setembro de 2013 ($ -2196167)\n",
        "```\n",
        "\n",
        "* Além disso, seu script final deve imprimir a análise no terminal e exportar um arquivo de texto `relatório.txt` com os resultados."
      ],
      "metadata": {
        "id": "xNnEaCbd6etW"
      }
    },
    {
      "cell_type": "code",
      "source": [
        ""
      ],
      "metadata": {
        "id": "0-Sc10V86jcu"
      },
      "execution_count": null,
      "outputs": []
    },
    {
      "cell_type": "markdown",
      "source": [
        "## PyVotação\n",
        "\n",
        "* Neste desafio, você tem a tarefa de ajudar uma pequena cidade rural a modernizar seu processo de contagem de votos. (Até agora, o tio Cleiton vinha contando-os um por um com confiança, mas, infelizmente, sua concentração não é o que costumava ser.)\n",
        "\n",
        "* Você receberá um conjunto de dados de enquete chamado [dados_eleção.txt](https://drive.google.com/file/d/13tarkZMlfvMcHnS8K49pdF-GMYOwgggg/view?usp=sharing). O conjunto de dados é composto por três colunas: `ID do eleitor`,` Município` e `Candidato`. Sua tarefa é criar um script Python que analise os votos e calcule cada uma das seguintes informações:\n",
        "\n",
        "  * O número total de votos expressos\n",
        "\n",
        "  * Uma lista completa de candidatos que receberam votos\n",
        "\n",
        "  * A porcentagem de votos que cada candidato ganhou\n",
        "\n",
        "  * O número total de votos que cada candidato ganhou\n",
        "\n",
        "  * O vencedor da eleição com base no voto popular.\n",
        "\n",
        "* Por exemplo, sua análise deve ser semelhante a esta abaixo:\n",
        "\n",
        "  ```text\n",
        "  Resultados eleitorais\n",
        "  -------------------------\n",
        "  Total de votos: 3521001\n",
        "  -------------------------\n",
        "  Khan: 63.0% (2218231)\n",
        "  Correy: 20.0% (704200)\n",
        "  Li: 14.0% (492940)\n",
        "  O'Tooley: 3.0% (105630)\n",
        "  -------------------------\n",
        "  Vencedor: Khan\n",
        "  -------------------------\n",
        "  ```\n",
        "\n",
        "* Além disso, seu script final deve imprimir a análise no terminal e exportar um arquivo de texto `resultado.txt` com os resultados."
      ],
      "metadata": {
        "id": "vTvs5PG76jwe"
      }
    },
    {
      "cell_type": "code",
      "source": [
        ""
      ],
      "metadata": {
        "id": "JWv-FBKR6onW"
      },
      "execution_count": null,
      "outputs": []
    },
    {
      "cell_type": "markdown",
      "source": [
        "## 2º turno - PE - 2020\n",
        "\n",
        "Dados em `.csv` do boletim de urna do 2º turno das eleições de 2020 em Pernambuco:\n",
        "[bweb_2t_PE_301120201245_rev.csv](https://drive.google.com/file/d/1dFhOQzhgHVXP1LYh8OG6cIwK-XLa3fNn/view?usp=sharing)\n",
        "\n",
        "\n",
        "Mais dados de eleições brasileiras:\n",
        "https://www.tse.jus.br/eleicoes/estatisticas/repositorio-de-dados-eleitorais-1"
      ],
      "metadata": {
        "id": "rxhRXcyjRanS"
      }
    },
    {
      "cell_type": "code",
      "source": [
        ""
      ],
      "metadata": {
        "id": "K3R4PerbSjHJ"
      },
      "execution_count": null,
      "outputs": []
    },
    {
      "cell_type": "markdown",
      "source": [
        "## US Election 2020\n",
        "\n",
        "A corrida presidencial americana ocorre de forma diferente da brasileira.\n",
        "\n",
        "O candidato vencedor não tem necessáriamente a maior quantidade de votos, mas sim o maior número de colegiados eleitorais. Mais detalhes sobre como ocorre a eleição americana neste link: [US election 2020: A really simple guide](https://www.bbc.com/news/election-us-2020-53785985)\n",
        "\n",
        "Com base em dados reais da eleição americana de 2020, analise qual foi o candidato vencedor:\n",
        "[president_county_candidate.csv](https://drive.google.com/file/d/1DvdB73YbT40Vg3GFctg4qyHPIUXNkeA0/view?usp=sharing)\n",
        "\n",
        "Exemplo dos dados armazenados no arquivo:\n",
        "```csv\n",
        "state,county,candidate,party,total_votes,won\n",
        "Delaware,Kent County,Joe Biden,DEM,44552,True\n",
        "Delaware,Kent County,Donald Trump,REP,41009,False\n",
        "Delaware,Kent County,Jo Jorgensen,LIB,1044,False\n",
        "Delaware,Kent County,Howie Hawkins,GRN,420,False\n",
        "Delaware,New Castle County,Joe Biden,DEM,195034,True\n",
        "Delaware,New Castle County,Donald Trump,REP,88364,False\n",
        "Delaware,New Castle County,Jo Jorgensen,LIB,2953,False\n",
        "Delaware,New Castle County,Howie Hawkins,GRN,1282,False\n",
        "Delaware,Sussex County,Donald Trump,REP,71230,True\n",
        "Delaware,Sussex County,Joe Biden,DEM,56682,False\n",
        "```"
      ],
      "metadata": {
        "id": "Fyd8BTNp6o92"
      }
    },
    {
      "cell_type": "code",
      "source": [
        ""
      ],
      "metadata": {
        "id": "tDvG1HldBvC4"
      },
      "execution_count": null,
      "outputs": []
    }
  ]
}